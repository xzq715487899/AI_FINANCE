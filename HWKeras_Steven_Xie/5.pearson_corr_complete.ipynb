{
 "cells": [
  {
   "cell_type": "markdown",
   "metadata": {},
   "source": [
    "Fill in the missing code (#####).  Here you learn to use the pearson_loss function, the penalized_pearson_loss function and the pearson_metric function. See important comment at the end."
   ]
  },
  {
   "cell_type": "code",
   "execution_count": 1,
   "metadata": {},
   "outputs": [
    {
     "name": "stderr",
     "output_type": "stream",
     "text": [
      "Using TensorFlow backend.\n"
     ]
    }
   ],
   "source": [
    "%matplotlib inline\n",
    "import matplotlib.pyplot as plt\n",
    "import pandas as pd\n",
    "import tensorflow as tf\n",
    "tf.compat.v1.logging.set_verbosity(tf.compat.v1.logging.ERROR)\n",
    "import numpy as np\n",
    "from keras.layers import Dense\n",
    "from keras.models import Sequential\n",
    "from keras.optimizers import SGD\n",
    "from matplotlib import pyplot\n",
    "from scipy.stats import spearmanr\n",
    "from scipy.stats import pearsonr\n",
    "import keras.backend as K\n",
    "from sklearn.datasets import make_regression\n",
    "from sklearn.preprocessing import StandardScaler\n",
    "import keras"
   ]
  },
  {
   "cell_type": "markdown",
   "metadata": {},
   "source": [
    "Here we program the pearson_loss function using tensors"
   ]
  },
  {
   "cell_type": "code",
   "execution_count": 2,
   "metadata": {},
   "outputs": [],
   "source": [
    "def pearson_loss(y_true, y_pred):\n",
    "    \"\"\"Pearson correlation coefficient\"\"\"\n",
    "\n",
    "    x = y_true\n",
    "    y = y_pred\n",
    "    xm, ym = x - K.mean(x), y - K.mean(y)\n",
    "    r_num = K.sum(tf.multiply(xm, ym))\n",
    "    r_den = K.sqrt(tf.multiply(K.sum(K.square(xm)), K.sum(K.square(ym))))\n",
    "    r = r_num / (r_den + K.epsilon())\n",
    "    r = K.maximum(K.minimum(r, 1.0), -1.0)\n",
    "    \n",
    "    return  tf.constant(1.0, dtype=x.dtype) - K.square(r)"
   ]
  },
  {
   "cell_type": "markdown",
   "metadata": {},
   "source": [
    "Next we program another version, a penalized_pearson_loss."
   ]
  },
  {
   "cell_type": "markdown",
   "metadata": {},
   "source": [
    "The penalized_pearson_loss maximizes the pearson correlation coefficient between the predicted values and the labels, while trying to have the same mean and variance.  It is the same as pearson_loss except for the addition of a penalty term (0.01*sqdif) so it deals with  noise better:https://archive.md/k5aTF"
   ]
  },
  {
   "cell_type": "code",
   "execution_count": 3,
   "metadata": {},
   "outputs": [],
   "source": [
    "def penalized_pearson_loss(x,y, axis=-2):\n",
    "    \"\"\"Penalized Pearson correlation coefficient\"\"\"\n",
    "    x = tf.convert_to_tensor(x)\n",
    "    y = K.cast(y, x.dtype)\n",
    "    n = tf.cast(tf.shape(x)[axis], x.dtype)\n",
    "    xsum = tf.reduce_sum(x, axis=axis)\n",
    "    ysum = tf.reduce_sum(y, axis=axis)\n",
    "    xmean = xsum / n\n",
    "    ymean = ysum / n\n",
    "    xsqsum = tf.reduce_sum( tf.math.squared_difference(x, xmean), axis=axis)\n",
    "    ysqsum = tf.reduce_sum( tf.math.squared_difference(y, ymean), axis=axis)\n",
    "    cov = tf.reduce_sum( (x - xmean) * (y - ymean), axis=axis)\n",
    "    corr = cov / (tf.sqrt(xsqsum * ysqsum)+ K.epsilon())\n",
    "    sqdif = tf.reduce_sum(tf.math.squared_difference(x, y), axis=axis) / n / tf.sqrt(ysqsum / n)\n",
    "    return tf.convert_to_tensor( K.mean(tf.constant(1.0, dtype=x.dtype) - corr + (0.01 * sqdif)) , dtype=tf.float32 )"
   ]
  },
  {
   "cell_type": "markdown",
   "metadata": {},
   "source": [
    "Next we program the pearson_metric function using py_func."
   ]
  },
  {
   "cell_type": "markdown",
   "metadata": {},
   "source": [
    "py_func is a tf wrapper for a python function. py_func returns a tensor.\n",
    "Below we use py_func to wrap around the python function pearsonr.\n",
    "This use of py_func does NOT work in my setup which is why\n",
    "I commented out the pearson_metric that uses py_func and intead\n",
    "I use the pearson_metric underneath that uses tensors.\n",
    "py_func doesn't always work."
   ]
  },
  {
   "cell_type": "markdown",
   "metadata": {},
   "source": [
    "def pearson_metric(y_true, y_pred):\n",
    "    \"\"\"Pearson correlation coefficient\"\"\"\n",
    "    \n",
    "    r = tf.py_function(pearsonr, inp=[y_true, y_pred], Tout=tf.float32)\n",
    "    \n",
    "    return  tf.constant(1.0, dtype=y_true.dtype)  - r"
   ]
  },
  {
   "cell_type": "code",
   "execution_count": 4,
   "metadata": {},
   "outputs": [],
   "source": [
    "def pearson_metric(y_true, y_pred):\n",
    "    \"\"\"Pearson correlation coefficient programmed using tensors\"\"\"\n",
    "\n",
    "    x = y_true\n",
    "    y = y_pred\n",
    "    xm, ym = x - K.mean(x), y - K.mean(y)\n",
    "    r_num = K.sum(tf.multiply(xm, ym))\n",
    "    r_den = K.sqrt(tf.multiply(K.sum(K.square(xm)), K.sum(K.square(ym))))\n",
    "    r = r_num / (r_den + K.epsilon())\n",
    "    r = K.maximum(K.minimum(r, 1.0), -1.0)\n",
    "    \n",
    "    return tf.constant(1.0, dtype=x.dtype) - K.square(r)"
   ]
  },
  {
   "cell_type": "code",
   "execution_count": 7,
   "metadata": {},
   "outputs": [],
   "source": [
    "num_features = 20\n",
    "# generate regression dataset\n",
    "X, y = make_regression(n_samples=1000, n_features=num_features, noise=0.1, random_state=1)\n",
    "\n",
    "# split into train and test\n",
    "n_train = 500\n",
    "trainX, testX = X[:n_train, :], X[n_train:, :]\n",
    "trainy, testy = y[:n_train], y[n_train:]\n",
    "\n",
    "# reshape 1d arrays to 2d arrays\n",
    "trainy = trainy.reshape(len(trainy), 1)\n",
    "testy = testy.reshape(len(trainy), 1)\n",
    "\n",
    "# create scaler\n",
    "scaler = StandardScaler()\n",
    "# fit scaler on training dataset\n",
    "scaler.fit(trainy)\n",
    "# transform training dataset\n",
    "trainy = scaler.transform(trainy)\n",
    "# transform test dataset\n",
    "testy = scaler.transform(testy)\n",
    "\n",
    "# fit scaler on training dataset\n",
    "scaler.fit(trainX)\n",
    "# transform training dataset\n",
    "trainX = scaler.transform(trainX)\n",
    "# transform test dataset\n",
    "testX = scaler.transform(testX)"
   ]
  },
  {
   "cell_type": "code",
   "execution_count": 10,
   "metadata": {},
   "outputs": [
    {
     "name": "stdout",
     "output_type": "stream",
     "text": [
      "Train on 500 samples, validate on 500 samples\n",
      "Epoch 1/100\n",
      "500/500 [==============================] - 2s 5ms/step - loss: 1.0686 - pearson_metric: 0.9433 - val_loss: 0.8568 - val_pearson_metric: 0.9360\n",
      "Epoch 2/100\n",
      "500/500 [==============================] - 0s 119us/step - loss: 0.6226 - pearson_metric: 0.7981 - val_loss: 0.3934 - val_pearson_metric: 0.5976\n",
      "Epoch 3/100\n",
      "500/500 [==============================] - 0s 125us/step - loss: 0.3358 - pearson_metric: 0.5233 - val_loss: 0.1913 - val_pearson_metric: 0.3246\n",
      "Epoch 4/100\n",
      "500/500 [==============================] - 0s 120us/step - loss: 0.1755 - pearson_metric: 0.2987 - val_loss: 0.1181 - val_pearson_metric: 0.2059\n",
      "Epoch 5/100\n",
      "500/500 [==============================] - 0s 124us/step - loss: 0.1040 - pearson_metric: 0.1817 - val_loss: 0.0870 - val_pearson_metric: 0.1529\n",
      "Epoch 6/100\n",
      "500/500 [==============================] - 0s 112us/step - loss: 0.0760 - pearson_metric: 0.1337 - val_loss: 0.0725 - val_pearson_metric: 0.1276\n",
      "Epoch 7/100\n",
      "500/500 [==============================] - 0s 97us/step - loss: 0.0601 - pearson_metric: 0.1050 - val_loss: 0.0646 - val_pearson_metric: 0.1136\n",
      "Epoch 8/100\n",
      "500/500 [==============================] - 0s 97us/step - loss: 0.0494 - pearson_metric: 0.0855 - val_loss: 0.0592 - val_pearson_metric: 0.1035\n",
      "Epoch 9/100\n",
      "500/500 [==============================] - 0s 97us/step - loss: 0.0479 - pearson_metric: 0.0828 - val_loss: 0.0542 - val_pearson_metric: 0.0944\n",
      "Epoch 10/100\n",
      "500/500 [==============================] - 0s 99us/step - loss: 0.0427 - pearson_metric: 0.0734 - val_loss: 0.0502 - val_pearson_metric: 0.0871\n",
      "Epoch 11/100\n",
      "500/500 [==============================] - 0s 112us/step - loss: 0.0375 - pearson_metric: 0.0638 - val_loss: 0.0474 - val_pearson_metric: 0.0822\n",
      "Epoch 12/100\n",
      "500/500 [==============================] - 0s 120us/step - loss: 0.0345 - pearson_metric: 0.0583 - val_loss: 0.0451 - val_pearson_metric: 0.0780\n",
      "Epoch 13/100\n",
      "500/500 [==============================] - 0s 118us/step - loss: 0.0325 - pearson_metric: 0.0547 - val_loss: 0.0425 - val_pearson_metric: 0.0733\n",
      "Epoch 14/100\n",
      "500/500 [==============================] - 0s 124us/step - loss: 0.0293 - pearson_metric: 0.0488 - val_loss: 0.0405 - val_pearson_metric: 0.0697\n",
      "Epoch 15/100\n",
      "500/500 [==============================] - 0s 88us/step - loss: 0.0285 - pearson_metric: 0.0473 - val_loss: 0.0381 - val_pearson_metric: 0.0652\n",
      "Epoch 16/100\n",
      "500/500 [==============================] - 0s 114us/step - loss: 0.0255 - pearson_metric: 0.0418 - val_loss: 0.0361 - val_pearson_metric: 0.0616\n",
      "Epoch 17/100\n",
      "500/500 [==============================] - 0s 112us/step - loss: 0.0238 - pearson_metric: 0.0388 - val_loss: 0.0343 - val_pearson_metric: 0.0584\n",
      "Epoch 18/100\n",
      "500/500 [==============================] - 0s 97us/step - loss: 0.0239 - pearson_metric: 0.0391 - val_loss: 0.0327 - val_pearson_metric: 0.0556\n",
      "Epoch 19/100\n",
      "500/500 [==============================] - 0s 119us/step - loss: 0.0218 - pearson_metric: 0.0354 - val_loss: 0.0312 - val_pearson_metric: 0.0530\n",
      "Epoch 20/100\n",
      "500/500 [==============================] - 0s 118us/step - loss: 0.0218 - pearson_metric: 0.0355 - val_loss: 0.0297 - val_pearson_metric: 0.0503\n",
      "Epoch 21/100\n",
      "500/500 [==============================] - 0s 114us/step - loss: 0.0190 - pearson_metric: 0.0302 - val_loss: 0.0286 - val_pearson_metric: 0.0485\n",
      "Epoch 22/100\n",
      "500/500 [==============================] - 0s 116us/step - loss: 0.0189 - pearson_metric: 0.0303 - val_loss: 0.0275 - val_pearson_metric: 0.0465\n",
      "Epoch 23/100\n",
      "500/500 [==============================] - 0s 70us/step - loss: 0.0185 - pearson_metric: 0.0296 - val_loss: 0.0262 - val_pearson_metric: 0.0441\n",
      "Epoch 24/100\n",
      "500/500 [==============================] - 0s 97us/step - loss: 0.0179 - pearson_metric: 0.0287 - val_loss: 0.0252 - val_pearson_metric: 0.0424\n",
      "Epoch 25/100\n",
      "500/500 [==============================] - 0s 102us/step - loss: 0.0167 - pearson_metric: 0.0266 - val_loss: 0.0243 - val_pearson_metric: 0.0409\n",
      "Epoch 26/100\n",
      "500/500 [==============================] - 0s 118us/step - loss: 0.0159 - pearson_metric: 0.0252 - val_loss: 0.0233 - val_pearson_metric: 0.0391\n",
      "Epoch 27/100\n",
      "500/500 [==============================] - 0s 116us/step - loss: 0.0153 - pearson_metric: 0.0242 - val_loss: 0.0223 - val_pearson_metric: 0.0375\n",
      "Epoch 28/100\n",
      "500/500 [==============================] - 0s 122us/step - loss: 0.0140 - pearson_metric: 0.0220 - val_loss: 0.0218 - val_pearson_metric: 0.0366\n",
      "Epoch 29/100\n",
      "500/500 [==============================] - 0s 93us/step - loss: 0.0135 - pearson_metric: 0.0211 - val_loss: 0.0209 - val_pearson_metric: 0.0351\n",
      "Epoch 30/100\n",
      "500/500 [==============================] - 0s 125us/step - loss: 0.0137 - pearson_metric: 0.0217 - val_loss: 0.0202 - val_pearson_metric: 0.0340\n",
      "Epoch 31/100\n",
      "500/500 [==============================] - 0s 163us/step - loss: 0.0129 - pearson_metric: 0.0205 - val_loss: 0.0196 - val_pearson_metric: 0.0331\n",
      "Epoch 32/100\n",
      "500/500 [==============================] - 0s 132us/step - loss: 0.0125 - pearson_metric: 0.0199 - val_loss: 0.0190 - val_pearson_metric: 0.0322\n",
      "Epoch 33/100\n",
      "500/500 [==============================] - 0s 100us/step - loss: 0.0122 - pearson_metric: 0.0195 - val_loss: 0.0183 - val_pearson_metric: 0.0310\n",
      "Epoch 34/100\n",
      "500/500 [==============================] - 0s 114us/step - loss: 0.0119 - pearson_metric: 0.0190 - val_loss: 0.0180 - val_pearson_metric: 0.0306\n",
      "Epoch 35/100\n",
      "500/500 [==============================] - 0s 132us/step - loss: 0.0117 - pearson_metric: 0.0188 - val_loss: 0.0173 - val_pearson_metric: 0.0293\n",
      "Epoch 36/100\n",
      "500/500 [==============================] - 0s 126us/step - loss: 0.0109 - pearson_metric: 0.0174 - val_loss: 0.0167 - val_pearson_metric: 0.0285\n",
      "Epoch 37/100\n",
      "500/500 [==============================] - 0s 124us/step - loss: 0.0105 - pearson_metric: 0.0169 - val_loss: 0.0163 - val_pearson_metric: 0.0279\n",
      "Epoch 38/100\n",
      "500/500 [==============================] - 0s 85us/step - loss: 0.0106 - pearson_metric: 0.0171 - val_loss: 0.0158 - val_pearson_metric: 0.0270\n",
      "Epoch 39/100\n",
      "500/500 [==============================] - 0s 95us/step - loss: 0.0099 - pearson_metric: 0.0160 - val_loss: 0.0155 - val_pearson_metric: 0.0267\n",
      "Epoch 40/100\n",
      "500/500 [==============================] - 0s 129us/step - loss: 0.0096 - pearson_metric: 0.0157 - val_loss: 0.0151 - val_pearson_metric: 0.0260\n",
      "Epoch 41/100\n",
      "500/500 [==============================] - 0s 97us/step - loss: 0.0094 - pearson_metric: 0.0154 - val_loss: 0.0146 - val_pearson_metric: 0.0253\n",
      "Epoch 42/100\n",
      "500/500 [==============================] - 0s 112us/step - loss: 0.0088 - pearson_metric: 0.0143 - val_loss: 0.0143 - val_pearson_metric: 0.0248\n",
      "Epoch 43/100\n",
      "500/500 [==============================] - 0s 79us/step - loss: 0.0090 - pearson_metric: 0.0149 - val_loss: 0.0138 - val_pearson_metric: 0.0241\n",
      "Epoch 44/100\n",
      "500/500 [==============================] - 0s 130us/step - loss: 0.0086 - pearson_metric: 0.0143 - val_loss: 0.0134 - val_pearson_metric: 0.0234\n",
      "Epoch 45/100\n",
      "500/500 [==============================] - 0s 110us/step - loss: 0.0083 - pearson_metric: 0.0138 - val_loss: 0.0130 - val_pearson_metric: 0.0228\n",
      "Epoch 46/100\n",
      "500/500 [==============================] - 0s 111us/step - loss: 0.0081 - pearson_metric: 0.0135 - val_loss: 0.0127 - val_pearson_metric: 0.0222\n",
      "Epoch 47/100\n",
      "500/500 [==============================] - 0s 112us/step - loss: 0.0078 - pearson_metric: 0.0129 - val_loss: 0.0124 - val_pearson_metric: 0.0219\n",
      "Epoch 48/100\n",
      "500/500 [==============================] - 0s 111us/step - loss: 0.0074 - pearson_metric: 0.0124 - val_loss: 0.0121 - val_pearson_metric: 0.0215\n",
      "Epoch 49/100\n",
      "500/500 [==============================] - 0s 136us/step - loss: 0.0072 - pearson_metric: 0.0121 - val_loss: 0.0118 - val_pearson_metric: 0.0210\n",
      "Epoch 50/100\n",
      "500/500 [==============================] - 0s 136us/step - loss: 0.0075 - pearson_metric: 0.0129 - val_loss: 0.0116 - val_pearson_metric: 0.0207\n",
      "Epoch 51/100\n",
      "500/500 [==============================] - 0s 144us/step - loss: 0.0072 - pearson_metric: 0.0123 - val_loss: 0.0114 - val_pearson_metric: 0.0204\n",
      "Epoch 52/100\n",
      "500/500 [==============================] - 0s 107us/step - loss: 0.0068 - pearson_metric: 0.0115 - val_loss: 0.0111 - val_pearson_metric: 0.0199\n"
     ]
    },
    {
     "name": "stdout",
     "output_type": "stream",
     "text": [
      "Epoch 53/100\n",
      "500/500 [==============================] - 0s 97us/step - loss: 0.0068 - pearson_metric: 0.0117 - val_loss: 0.0108 - val_pearson_metric: 0.0194\n",
      "Epoch 54/100\n",
      "500/500 [==============================] - 0s 111us/step - loss: 0.0062 - pearson_metric: 0.0107 - val_loss: 0.0105 - val_pearson_metric: 0.0190\n",
      "Epoch 55/100\n",
      "500/500 [==============================] - 0s 98us/step - loss: 0.0060 - pearson_metric: 0.0104 - val_loss: 0.0102 - val_pearson_metric: 0.0186\n",
      "Epoch 56/100\n",
      "500/500 [==============================] - 0s 112us/step - loss: 0.0060 - pearson_metric: 0.0104 - val_loss: 0.0100 - val_pearson_metric: 0.0181\n",
      "Epoch 57/100\n",
      "500/500 [==============================] - 0s 110us/step - loss: 0.0061 - pearson_metric: 0.0108 - val_loss: 0.0097 - val_pearson_metric: 0.0177\n",
      "Epoch 58/100\n",
      "500/500 [==============================] - 0s 97us/step - loss: 0.0058 - pearson_metric: 0.0103 - val_loss: 0.0095 - val_pearson_metric: 0.0174\n",
      "Epoch 59/100\n",
      "500/500 [==============================] - 0s 115us/step - loss: 0.0054 - pearson_metric: 0.0094 - val_loss: 0.0094 - val_pearson_metric: 0.0172\n",
      "Epoch 60/100\n",
      "500/500 [==============================] - 0s 120us/step - loss: 0.0052 - pearson_metric: 0.0093 - val_loss: 0.0092 - val_pearson_metric: 0.0169\n",
      "Epoch 61/100\n",
      "500/500 [==============================] - 0s 116us/step - loss: 0.0055 - pearson_metric: 0.0098 - val_loss: 0.0090 - val_pearson_metric: 0.0166\n",
      "Epoch 62/100\n",
      "500/500 [==============================] - 0s 118us/step - loss: 0.0052 - pearson_metric: 0.0093 - val_loss: 0.0088 - val_pearson_metric: 0.0163\n",
      "Epoch 63/100\n",
      "500/500 [==============================] - 0s 64us/step - loss: 0.0052 - pearson_metric: 0.0093 - val_loss: 0.0086 - val_pearson_metric: 0.0160\n",
      "Epoch 64/100\n",
      "500/500 [==============================] - 0s 115us/step - loss: 0.0049 - pearson_metric: 0.0089 - val_loss: 0.0084 - val_pearson_metric: 0.0157\n",
      "Epoch 65/100\n",
      "500/500 [==============================] - 0s 66us/step - loss: 0.0049 - pearson_metric: 0.0089 - val_loss: 0.0083 - val_pearson_metric: 0.0155\n",
      "Epoch 66/100\n",
      "500/500 [==============================] - 0s 97us/step - loss: 0.0048 - pearson_metric: 0.0088 - val_loss: 0.0082 - val_pearson_metric: 0.0154\n",
      "Epoch 67/100\n",
      "500/500 [==============================] - 0s 114us/step - loss: 0.0045 - pearson_metric: 0.0082 - val_loss: 0.0080 - val_pearson_metric: 0.0151\n",
      "Epoch 68/100\n",
      "500/500 [==============================] - 0s 107us/step - loss: 0.0045 - pearson_metric: 0.0083 - val_loss: 0.0079 - val_pearson_metric: 0.0148\n",
      "Epoch 69/100\n",
      "500/500 [==============================] - 0s 97us/step - loss: 0.0046 - pearson_metric: 0.0086 - val_loss: 0.0077 - val_pearson_metric: 0.0145\n",
      "Epoch 70/100\n",
      "500/500 [==============================] - 0s 112us/step - loss: 0.0046 - pearson_metric: 0.0086 - val_loss: 0.0075 - val_pearson_metric: 0.0142\n",
      "Epoch 71/100\n",
      "500/500 [==============================] - 0s 120us/step - loss: 0.0041 - pearson_metric: 0.0075 - val_loss: 0.0074 - val_pearson_metric: 0.0141\n",
      "Epoch 72/100\n",
      "500/500 [==============================] - 0s 120us/step - loss: 0.0041 - pearson_metric: 0.0077 - val_loss: 0.0072 - val_pearson_metric: 0.0136\n",
      "Epoch 73/100\n",
      "500/500 [==============================] - 0s 102us/step - loss: 0.0040 - pearson_metric: 0.0074 - val_loss: 0.0071 - val_pearson_metric: 0.0135\n",
      "Epoch 74/100\n",
      "500/500 [==============================] - 0s 102us/step - loss: 0.0041 - pearson_metric: 0.0077 - val_loss: 0.0070 - val_pearson_metric: 0.0134\n",
      "Epoch 75/100\n",
      "500/500 [==============================] - 0s 97us/step - loss: 0.0040 - pearson_metric: 0.0076 - val_loss: 0.0068 - val_pearson_metric: 0.0131\n",
      "Epoch 76/100\n",
      "500/500 [==============================] - 0s 98us/step - loss: 0.0039 - pearson_metric: 0.0073 - val_loss: 0.0069 - val_pearson_metric: 0.0131\n",
      "Epoch 77/100\n",
      "500/500 [==============================] - 0s 111us/step - loss: 0.0037 - pearson_metric: 0.0069 - val_loss: 0.0066 - val_pearson_metric: 0.0127\n",
      "Epoch 78/100\n",
      "500/500 [==============================] - 0s 98us/step - loss: 0.0038 - pearson_metric: 0.0071 - val_loss: 0.0066 - val_pearson_metric: 0.0126\n",
      "Epoch 79/100\n",
      "500/500 [==============================] - 0s 93us/step - loss: 0.0038 - pearson_metric: 0.0072 - val_loss: 0.0064 - val_pearson_metric: 0.0124\n",
      "Epoch 80/100\n",
      "500/500 [==============================] - 0s 102us/step - loss: 0.0035 - pearson_metric: 0.0067 - val_loss: 0.0064 - val_pearson_metric: 0.0124\n",
      "Epoch 81/100\n",
      "500/500 [==============================] - 0s 97us/step - loss: 0.0034 - pearson_metric: 0.0064 - val_loss: 0.0062 - val_pearson_metric: 0.0119\n",
      "Epoch 82/100\n",
      "500/500 [==============================] - 0s 97us/step - loss: 0.0034 - pearson_metric: 0.0064 - val_loss: 0.0061 - val_pearson_metric: 0.0117\n",
      "Epoch 83/100\n",
      "500/500 [==============================] - 0s 98us/step - loss: 0.0034 - pearson_metric: 0.0064 - val_loss: 0.0061 - val_pearson_metric: 0.0118\n",
      "Epoch 84/100\n",
      "500/500 [==============================] - 0s 112us/step - loss: 0.0034 - pearson_metric: 0.0065 - val_loss: 0.0059 - val_pearson_metric: 0.0113\n",
      "Epoch 85/100\n",
      "500/500 [==============================] - 0s 97us/step - loss: 0.0034 - pearson_metric: 0.0065 - val_loss: 0.0058 - val_pearson_metric: 0.0112\n",
      "Epoch 86/100\n",
      "500/500 [==============================] - 0s 97us/step - loss: 0.0031 - pearson_metric: 0.0059 - val_loss: 0.0058 - val_pearson_metric: 0.0112\n",
      "Epoch 87/100\n",
      "500/500 [==============================] - 0s 97us/step - loss: 0.0030 - pearson_metric: 0.0058 - val_loss: 0.0057 - val_pearson_metric: 0.0110\n",
      "Epoch 88/100\n",
      "500/500 [==============================] - 0s 97us/step - loss: 0.0032 - pearson_metric: 0.0062 - val_loss: 0.0055 - val_pearson_metric: 0.0107\n",
      "Epoch 89/100\n",
      "500/500 [==============================] - 0s 102us/step - loss: 0.0035 - pearson_metric: 0.0068 - val_loss: 0.0054 - val_pearson_metric: 0.0105\n",
      "Epoch 90/100\n",
      "500/500 [==============================] - 0s 118us/step - loss: 0.0030 - pearson_metric: 0.0058 - val_loss: 0.0055 - val_pearson_metric: 0.0106\n",
      "Epoch 91/100\n",
      "500/500 [==============================] - 0s 122us/step - loss: 0.0027 - pearson_metric: 0.0051 - val_loss: 0.0054 - val_pearson_metric: 0.0104\n",
      "Epoch 92/100\n",
      "500/500 [==============================] - 0s 116us/step - loss: 0.0030 - pearson_metric: 0.0057 - val_loss: 0.0053 - val_pearson_metric: 0.0103\n",
      "Epoch 93/100\n",
      "500/500 [==============================] - 0s 106us/step - loss: 0.0029 - pearson_metric: 0.0056 - val_loss: 0.0052 - val_pearson_metric: 0.0101\n",
      "Epoch 94/100\n",
      "500/500 [==============================] - 0s 99us/step - loss: 0.0028 - pearson_metric: 0.0054 - val_loss: 0.0051 - val_pearson_metric: 0.0099\n",
      "Epoch 95/100\n",
      "500/500 [==============================] - 0s 99us/step - loss: 0.0028 - pearson_metric: 0.0054 - val_loss: 0.0050 - val_pearson_metric: 0.0097\n",
      "Epoch 96/100\n",
      "500/500 [==============================] - 0s 96us/step - loss: 0.0026 - pearson_metric: 0.0050 - val_loss: 0.0050 - val_pearson_metric: 0.0096\n",
      "Epoch 97/100\n",
      "500/500 [==============================] - 0s 99us/step - loss: 0.0026 - pearson_metric: 0.0050 - val_loss: 0.0048 - val_pearson_metric: 0.0094\n",
      "Epoch 98/100\n",
      "500/500 [==============================] - 0s 79us/step - loss: 0.0026 - pearson_metric: 0.0050 - val_loss: 0.0048 - val_pearson_metric: 0.0093\n",
      "Epoch 99/100\n",
      "500/500 [==============================] - 0s 87us/step - loss: 0.0026 - pearson_metric: 0.0051 - val_loss: 0.0047 - val_pearson_metric: 0.0091\n",
      "Epoch 100/100\n",
      "500/500 [==============================] - 0s 108us/step - loss: 0.0024 - pearson_metric: 0.0047 - val_loss: 0.0047 - val_pearson_metric: 0.0091\n",
      "500/500 [==============================] - 0s 33us/step\n",
      "500/500 [==============================] - 0s 30us/step\n",
      "Train loss: 0.002, Test loss: 0.005\n",
      "Train metric: 0.005, Test metric: 0.009\n"
     ]
    },
    {
     "data": {
      "image/png": "[encoded data removed]",
      "text/plain": [
       "<Figure size 432x288 with 1 Axes>"
      ]
     },
     "metadata": {
      "needs_background": "light"
     },
     "output_type": "display_data"
    }
   ],
   "source": [
    "# mlp with scaled inputs outputs on the regression problem using custom loss and custom metric\n",
    "# define model\n",
    "model = Sequential()\n",
    "model.add(Dense(25, input_dim=20, activation='relu', kernel_initializer='he_uniform'))\n",
    "model.add(Dense(1, activation='linear'))\n",
    "# compile model using as loss: penalized_pearson_loss; as metric: pearson_metric AND kears.losses.mean_squared_error\n",
    "model.compile(loss=penalized_pearson_loss, optimizer=SGD(lr=0.01, momentum=0.9), metrics=[pearson_metric])#####\n",
    "\n",
    "# fit model\n",
    "history = model.fit(trainX, trainy, validation_data=(testX, testy), epochs=100, verbose=1)\n",
    "# evaluate the model\n",
    "train_e = model.evaluate(trainX, trainy, verbose=1)\n",
    "test_e = model.evaluate(testX, testy, verbose=1)\n",
    "print('Train loss: %.3f, Test loss: %.3f' % (train_e[0], test_e[0])) #when using custom loss and custom metric\n",
    "print('Train metric: %.3f, Test metric: %.3f' % (train_e[1], test_e[1])) #when using custom loss and custom metric\n",
    "#print('Train loss: %.3f, Test loss: %.3f' % (train_e, test_e)) \n",
    "#plot loss during training\n",
    "plt.title('Loss / Error')\n",
    "plt.plot(history.history['loss'], label='train')\n",
    "plt.plot(history.history['val_loss'], label='test')\n",
    "plt.legend()\n",
    "plt.show()"
   ]
  },
  {
   "cell_type": "markdown",
   "metadata": {},
   "source": [
    "Since the spearman_loss function for tensorflow 1.5 in spearman_corr_incomplete.ipynb cannot be used without a gradient, you have three options. "
   ]
  },
  {
   "cell_type": "markdown",
   "metadata": {},
   "source": [
    "1. You can program a gradient for the function."
   ]
  },
  {
   "cell_type": "markdown",
   "metadata": {},
   "source": [
    "2. You can use the spearman_loss function for tensorflow 2.6 in spearman_corr_TSFL2.ipynb (but we have not tested this).  "
   ]
  },
  {
   "cell_type": "markdown",
   "metadata": {},
   "source": [
    "3. You can use the penalized_pearson_loss function instead of the spearman_loss function (as we have done here)."
   ]
  },
  {
   "cell_type": "code",
   "execution_count": 11,
   "metadata": {},
   "outputs": [
    {
     "data": {
      "text/html": [
       "<div>\n",
       "<style scoped>\n",
       "    .dataframe tbody tr th:only-of-type {\n",
       "        vertical-align: middle;\n",
       "    }\n",
       "\n",
       "    .dataframe tbody tr th {\n",
       "        vertical-align: top;\n",
       "    }\n",
       "\n",
       "    .dataframe thead th {\n",
       "        text-align: right;\n",
       "    }\n",
       "</style>\n",
       "<table border=\"1\" class=\"dataframe\">\n",
       "  <thead>\n",
       "    <tr style=\"text-align: right;\">\n",
       "      <th></th>\n",
       "      <th>val_loss</th>\n",
       "      <th>val_pearson_metric</th>\n",
       "      <th>loss</th>\n",
       "      <th>pearson_metric</th>\n",
       "    </tr>\n",
       "  </thead>\n",
       "  <tbody>\n",
       "    <tr>\n",
       "      <th>0</th>\n",
       "      <td>0.856810</td>\n",
       "      <td>0.935969</td>\n",
       "      <td>1.068564</td>\n",
       "      <td>0.943276</td>\n",
       "    </tr>\n",
       "    <tr>\n",
       "      <th>1</th>\n",
       "      <td>0.393351</td>\n",
       "      <td>0.597628</td>\n",
       "      <td>0.622568</td>\n",
       "      <td>0.798119</td>\n",
       "    </tr>\n",
       "    <tr>\n",
       "      <th>2</th>\n",
       "      <td>0.191330</td>\n",
       "      <td>0.324607</td>\n",
       "      <td>0.335798</td>\n",
       "      <td>0.523260</td>\n",
       "    </tr>\n",
       "  </tbody>\n",
       "</table>\n",
       "</div>"
      ],
      "text/plain": [
       "   val_loss  val_pearson_metric      loss  pearson_metric\n",
       "0  0.856810            0.935969  1.068564        0.943276\n",
       "1  0.393351            0.597628  0.622568        0.798119\n",
       "2  0.191330            0.324607  0.335798        0.523260"
      ]
     },
     "execution_count": 11,
     "metadata": {},
     "output_type": "execute_result"
    }
   ],
   "source": [
    "df = pd.DataFrame(history.history)\n",
    "df.head(3)"
   ]
  },
  {
   "cell_type": "code",
   "execution_count": 12,
   "metadata": {},
   "outputs": [
    {
     "data": {
      "text/plain": [
       "<AxesSubplot:>"
      ]
     },
     "execution_count": 12,
     "metadata": {},
     "output_type": "execute_result"
    },
    {
     "data": {
      "image/png": "[encoded data removed]",
      "text/plain": [
       "<Figure size 432x288 with 1 Axes>"
      ]
     },
     "metadata": {
      "needs_background": "light"
     },
     "output_type": "display_data"
    }
   ],
   "source": [
    "df.plot()"
   ]
  },
  {
   "cell_type": "markdown",
   "metadata": {},
   "source": [
    "Penalized_pearson_loss has the advantage that it is easy to interpret, unlike MSE or a negative value of R-squared (which can arise in a non-linear model). But it has a disadvantage: When penalized_pearson_loss is used as loss (as it is used here), it minimizes 1-covariance and distance.  But it does so at different rates: it minimizes 1-covariance quickly and distance more slowly. This is why, when using the penalized_pearson_loss, the mse_metric converges more slowly. But the important thing is that it (MSE, distance) eventually converges after about 70 epochs."
   ]
  },
  {
   "cell_type": "markdown",
   "metadata": {},
   "source": [
    "For non-linear models you can use loss: MSE ('mean_squared_error'), and metric: pearson_metric. You can also experiment with loss: penalized_pearson_loss, and metric: kears.losses.mean_squared_error, making sure that convergence is happening. "
   ]
  },
  {
   "cell_type": "markdown",
   "metadata": {},
   "source": [
    "To see more about the comparative performance of the penalized_pearson_loss, see pearson_corr_TSFL2_EXTRADOCUMENTATION.ipynb (running the ipynb requires tensorflow 2, but you can see the graphs which show that the penalized_pearson_loss minimizes well while dealing with noisy data.) "
   ]
  },
  {
   "cell_type": "code",
   "execution_count": null,
   "metadata": {},
   "outputs": [],
   "source": []
  }
 ],
 "metadata": {
  "kernelspec": {
   "display_name": "Python 3 (ipykernel)",
   "language": "python",
   "name": "python3"
  },
  "language_info": {
   "codemirror_mode": {
    "name": "ipython",
    "version": 3
   },
   "file_extension": ".py",
   "mimetype": "text/x-python",
   "name": "python",
   "nbconvert_exporter": "python",
   "pygments_lexer": "ipython3",
   "version": "3.7.13"
  }
 },
 "nbformat": 4,
 "nbformat_minor": 2
}
